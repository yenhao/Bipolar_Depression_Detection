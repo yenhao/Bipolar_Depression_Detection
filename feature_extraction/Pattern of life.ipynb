{
 "cells": [
  {
   "cell_type": "code",
   "execution_count": 1,
   "metadata": {},
   "outputs": [],
   "source": [
    "import os\n",
    "import re\n",
    "import pickle\n",
    "import pandas as pd\n",
    "import numpy as np\n",
    "\n",
    "from collections import defaultdict"
   ]
  },
  {
   "cell_type": "markdown",
   "metadata": {},
   "source": [
    "### Load Users"
   ]
  },
  {
   "cell_type": "code",
   "execution_count": 5,
   "metadata": {},
   "outputs": [],
   "source": [
    "dir_path = \"../datasets/depression_senti_emo_pickle/\"\n",
    "\n",
    "files = os.listdir(dir_path)\n",
    "\n",
    "# Read all timelines from pickles\n",
    "depression_timelines = [pd.read_pickle(dir_path + file) for file in files]\n",
    "    "
   ]
  },
  {
   "cell_type": "markdown",
   "metadata": {},
   "source": [
    "### Load Diagnosed Time"
   ]
  },
  {
   "cell_type": "code",
   "execution_count": 7,
   "metadata": {},
   "outputs": [
    {
     "name": "stdout",
     "output_type": "stream",
     "text": [
      "Loaded\n"
     ]
    }
   ],
   "source": [
    "# open a file, where you stored the pickled data\n",
    "with open('../datasets/depression_diagnosed_time', 'rb') as f:\n",
    "    depression_diagnosed_dict = pickle.load(f)\n",
    "    print('Loaded')"
   ]
  },
  {
   "cell_type": "markdown",
   "metadata": {},
   "source": [
    "### Time Segementation"
   ]
  },
  {
   "cell_type": "code",
   "execution_count": 34,
   "metadata": {},
   "outputs": [],
   "source": [
    "def seg_timeline(timeline, diagnosed_date, period = 90):\n",
    "    user = timeline.uid[0]\n",
    "    diagnosed_date = depression_diagnosed_dict[user]\n",
    "    begin = diagnosed_date - pd.Timedelta(str(period) +' days')\n",
    "    end =  diagnosed_date + pd.Timedelta('2 days')\n",
    "    \n",
    "    period_timeline = timeline[(timeline.index<=end) & (timeline.index>=begin)]\n",
    "    \n",
    "    return period_timeline\n",
    "\n",
    "def check_amount_period(timeline, period = 90, minium = 100):\n",
    "    days = (period_timeline.index[0] - period_timeline.index[-1]).days\n",
    "    count = period_timeline.shape[0]\n",
    "    \n",
    "    if days >= period-2:\n",
    "        if count >= minimun:\n",
    "            return period_timeline\n",
    "    return None"
   ]
  },
  {
   "cell_type": "code",
   "execution_count": null,
   "metadata": {},
   "outputs": [],
   "source": []
  }
 ],
 "metadata": {
  "kernelspec": {
   "display_name": "Python 3",
   "language": "python",
   "name": "python3"
  },
  "language_info": {
   "codemirror_mode": {
    "name": "ipython",
    "version": 3
   },
   "file_extension": ".py",
   "mimetype": "text/x-python",
   "name": "python",
   "nbconvert_exporter": "python",
   "pygments_lexer": "ipython3",
   "version": "3.6.4"
  }
 },
 "nbformat": 4,
 "nbformat_minor": 2
}
