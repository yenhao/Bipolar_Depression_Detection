{
 "cells": [
  {
   "cell_type": "code",
   "execution_count": 2,
   "metadata": {},
   "outputs": [],
   "source": [
    "import pandas as pd\n",
    "import numpy as np\n",
    "import pickle\n",
    "import os\n",
    "import re"
   ]
  },
  {
   "cell_type": "markdown",
   "metadata": {},
   "source": [
    "# File syntax standardize"
   ]
  },
  {
   "cell_type": "code",
   "execution_count": 3,
   "metadata": {},
   "outputs": [],
   "source": [
    "def setTimeDelta(timeline):\n",
    "    # generate delta time field\n",
    "    timeline['dt']=np.zeros(timeline.shape[0])\n",
    "\n",
    "    # get the tweet time difference(minute)\n",
    "    delta_tweet_time = (timeline.index[:-1] - timeline.index[1:]).astype('timedelta64[s]')/60\n",
    "\n",
    "    # assign to timeline\n",
    "    timeline.iloc[:-1,-1] = delta_tweet_time\n",
    "    \n",
    "    return timeline"
   ]
  },
  {
   "cell_type": "code",
   "execution_count": 4,
   "metadata": {},
   "outputs": [],
   "source": [
    "def replace_Token(tweet):\n",
    "    tweet = re.sub('(https?:\\/\\/)|(pic)\\S+','URLTOK',tweet.lower().strip()) # url\n",
    "    tweet = re.sub('@(?:[a-zA-Z0-9_]+)', '<M>', tweet) # mention\n",
    "#     tweet = re.sub('#(?:[a-zA-Z0-9_]+)', '<H>', tweet) # hashtag\n",
    "    return tweet"
   ]
  },
  {
   "cell_type": "code",
   "execution_count": 5,
   "metadata": {},
   "outputs": [],
   "source": [
    "url_pat = re.compile('(https?:\\/\\/|pic.)\\s\\S+')\n",
    "def re_assemble_url(tweet, url_pat = url_pat):\n",
    "    match = url_pat.search(tweet)\n",
    "    if match:\n",
    "        url = tweet[match.start():match.end()].replace(\" \",\"\")\n",
    "        return tweet[:match.start()] + url + tweet[match.end():]\n",
    "    else:\n",
    "        return tweet"
   ]
  },
  {
   "cell_type": "code",
   "execution_count": 6,
   "metadata": {
    "scrolled": true
   },
   "outputs": [],
   "source": [
    "def convert_to_pandas_pickle(file, dir_path='./', out_dir_path = './pickle/'):\n",
    "#     print(\"Processing {}\".format(file))\n",
    "    # Read and organlize files\n",
    "    with open(dir_path+file) as f:\n",
    "        # Define table structure\n",
    "        content_dict = {'uid':[],\n",
    "                        'screen_name':[],\n",
    "                        'tweetime':[],\n",
    "                        'tweet':[]}\n",
    "        \n",
    "        for line in f.readlines():\n",
    "            uid, screen_name, tweetime, tweet = line.split('\\t')\n",
    "            content_dict['uid'].append(uid)\n",
    "            content_dict['screen_name'].append(screen_name)\n",
    "            content_dict['tweetime'].append(tweetime)\n",
    "            content_dict['tweet'].append(re_assemble_url(tweet.strip())) # Strip() to remove '\\n' & re-assemble URL\n",
    "\n",
    "    timeline = pd.DataFrame(content_dict, columns = ['uid', 'screen_name', 'tweetime', 'tweet'])\n",
    "    # df['datetime_int'] = pd.to_datetime(df['tweetime']).astype(np.int64)\n",
    "    # df = df.set_index('datetime_int')\n",
    "\n",
    "    # Convert to UTC-0 timezone\n",
    "    timeline['tweetime'] = pd.to_datetime(timeline['tweetime']) - pd.Timedelta('8 hours')\n",
    "    timeline = timeline.set_index('tweetime')\n",
    "    \n",
    "    # word replacement\n",
    "    timeline['repl_tweet'] = timeline.tweet.map(replace_Token)\n",
    "    \n",
    "    # set Time Delta Field\n",
    "    timeline = setTimeDelta(timeline)\n",
    "    \n",
    "    # Save file\n",
    "    timeline.to_pickle(out_dir_path+file)\n",
    "    \n",
    "    return True"
   ]
  },
  {
   "cell_type": "code",
   "execution_count": 8,
   "metadata": {
    "scrolled": true
   },
   "outputs": [
    {
     "name": "stdout",
     "output_type": "stream",
     "text": [
      "Done\n"
     ]
    }
   ],
   "source": [
    "dir_path = '../datasets/depression_users_tweets(diagnosed_today)/'\n",
    "out_dir_path = '../datasets/depression_raw_pickle/'\n",
    "files = os.listdir(dir_path)\n",
    "\n",
    "# Convert all files to pickle\n",
    "for file in files:\n",
    "    convert_to_pandas_pickle(file, dir_path, out_dir_path)\n",
    "    \n",
    "print('Done')"
   ]
  },
  {
   "cell_type": "markdown",
   "metadata": {},
   "source": [
    "### Read Pickles"
   ]
  },
  {
   "cell_type": "code",
   "execution_count": 10,
   "metadata": {},
   "outputs": [],
   "source": [
    "out_dir_path = '../datasets/depression_raw_pickle/'\n",
    "files = os.listdir(out_dir_path)\n",
    "\n",
    "# Read all timelines from pickles\n",
    "depression_timelines = [pd.read_pickle(out_dir_path+file) for file in files]"
   ]
  },
  {
   "cell_type": "code",
   "execution_count": 11,
   "metadata": {},
   "outputs": [
    {
     "data": {
      "text/html": [
       "<div>\n",
       "<style scoped>\n",
       "    .dataframe tbody tr th:only-of-type {\n",
       "        vertical-align: middle;\n",
       "    }\n",
       "\n",
       "    .dataframe tbody tr th {\n",
       "        vertical-align: top;\n",
       "    }\n",
       "\n",
       "    .dataframe thead th {\n",
       "        text-align: right;\n",
       "    }\n",
       "</style>\n",
       "<table border=\"1\" class=\"dataframe\">\n",
       "  <thead>\n",
       "    <tr style=\"text-align: right;\">\n",
       "      <th></th>\n",
       "      <th>uid</th>\n",
       "      <th>screen_name</th>\n",
       "      <th>tweet</th>\n",
       "      <th>repl_tweet</th>\n",
       "      <th>dt</th>\n",
       "    </tr>\n",
       "    <tr>\n",
       "      <th>tweetime</th>\n",
       "      <th></th>\n",
       "      <th></th>\n",
       "      <th></th>\n",
       "      <th></th>\n",
       "      <th></th>\n",
       "    </tr>\n",
       "  </thead>\n",
       "  <tbody>\n",
       "    <tr>\n",
       "      <th>2014-09-19 11:07:53</th>\n",
       "      <td>2759738561</td>\n",
       "      <td>Autumn_Rxin</td>\n",
       "      <td>Hugging trees hbu pic.twitter.com/PIuyEYmFmM</td>\n",
       "      <td>hugging trees hbu URLTOK</td>\n",
       "      <td>12829.516667</td>\n",
       "    </tr>\n",
       "    <tr>\n",
       "      <th>2014-09-10 13:18:22</th>\n",
       "      <td>2759738561</td>\n",
       "      <td>Autumn_Rxin</td>\n",
       "      <td>Pretty clouds pic.twitter.com/0qVIOT5OEJ</td>\n",
       "      <td>pretty clouds URLTOK</td>\n",
       "      <td>4329.816667</td>\n",
       "    </tr>\n",
       "    <tr>\n",
       "      <th>2014-09-07 13:08:33</th>\n",
       "      <td>2759738561</td>\n",
       "      <td>Autumn_Rxin</td>\n",
       "      <td>\" @illhueminati : share a picture you took rec...</td>\n",
       "      <td>\" &lt;M&gt; : share a URLTOK you took recently” URLTOK</td>\n",
       "      <td>1218.916667</td>\n",
       "    </tr>\n",
       "    <tr>\n",
       "      <th>2014-09-06 16:49:38</th>\n",
       "      <td>2759738561</td>\n",
       "      <td>Autumn_Rxin</td>\n",
       "      <td>pic.twitter.com/tiyAdEwG1T</td>\n",
       "      <td>URLTOK</td>\n",
       "      <td>1540.416667</td>\n",
       "    </tr>\n",
       "    <tr>\n",
       "      <th>2014-09-05 15:09:13</th>\n",
       "      <td>2759738561</td>\n",
       "      <td>Autumn_Rxin</td>\n",
       "      <td>Today was one of the best days of my life. pic...</td>\n",
       "      <td>today was one of the best days of my life. URLTOK</td>\n",
       "      <td>2.066667</td>\n",
       "    </tr>\n",
       "  </tbody>\n",
       "</table>\n",
       "</div>"
      ],
      "text/plain": [
       "                            uid  screen_name  \\\n",
       "tweetime                                       \n",
       "2014-09-19 11:07:53  2759738561  Autumn_Rxin   \n",
       "2014-09-10 13:18:22  2759738561  Autumn_Rxin   \n",
       "2014-09-07 13:08:33  2759738561  Autumn_Rxin   \n",
       "2014-09-06 16:49:38  2759738561  Autumn_Rxin   \n",
       "2014-09-05 15:09:13  2759738561  Autumn_Rxin   \n",
       "\n",
       "                                                                 tweet  \\\n",
       "tweetime                                                                 \n",
       "2014-09-19 11:07:53       Hugging trees hbu pic.twitter.com/PIuyEYmFmM   \n",
       "2014-09-10 13:18:22           Pretty clouds pic.twitter.com/0qVIOT5OEJ   \n",
       "2014-09-07 13:08:33  \" @illhueminati : share a picture you took rec...   \n",
       "2014-09-06 16:49:38                         pic.twitter.com/tiyAdEwG1T   \n",
       "2014-09-05 15:09:13  Today was one of the best days of my life. pic...   \n",
       "\n",
       "                                                            repl_tweet  \\\n",
       "tweetime                                                                 \n",
       "2014-09-19 11:07:53                           hugging trees hbu URLTOK   \n",
       "2014-09-10 13:18:22                               pretty clouds URLTOK   \n",
       "2014-09-07 13:08:33   \" <M> : share a URLTOK you took recently” URLTOK   \n",
       "2014-09-06 16:49:38                                             URLTOK   \n",
       "2014-09-05 15:09:13  today was one of the best days of my life. URLTOK   \n",
       "\n",
       "                               dt  \n",
       "tweetime                           \n",
       "2014-09-19 11:07:53  12829.516667  \n",
       "2014-09-10 13:18:22   4329.816667  \n",
       "2014-09-07 13:08:33   1218.916667  \n",
       "2014-09-06 16:49:38   1540.416667  \n",
       "2014-09-05 15:09:13      2.066667  "
      ]
     },
     "execution_count": 11,
     "metadata": {},
     "output_type": "execute_result"
    }
   ],
   "source": [
    "depression_timelines[0].head(5)"
   ]
  },
  {
   "cell_type": "markdown",
   "metadata": {},
   "source": [
    "## Get diagnosed date"
   ]
  },
  {
   "cell_type": "code",
   "execution_count": 58,
   "metadata": {},
   "outputs": [
    {
     "name": "stdout",
     "output_type": "stream",
     "text": [
      "\n",
      "Multiple Result:\t715408711\n",
      "{datetime.date(2012, 7, 25), datetime.date(2012, 7, 26)}\n",
      "\n",
      "Multiple Result:\t196699727\n",
      "{datetime.date(2012, 1, 13)}\n",
      "\n",
      "Multiple Result:\t1580882760\n",
      "{datetime.date(2013, 7, 9)}\n",
      "\n",
      "Multiple Result:\t2245701436\n",
      "{datetime.date(2014, 3, 12)}\n",
      "\n",
      "Multiple Result:\t59537566\n",
      "{datetime.date(2013, 4, 12)}\n",
      "\n",
      "Multiple Result:\t3474584555\n",
      "{datetime.date(2015, 12, 10)}\n",
      "\n",
      "Multiple Result:\t173935927\n",
      "{datetime.date(2012, 2, 10)}\n"
     ]
    }
   ],
   "source": [
    "diagnosed_day_dict = {}\n",
    "\n",
    "# Go through every person to get diagnosed date\n",
    "for timeline in depression_timelines:\n",
    "\n",
    "    diagnosed_dates = timeline[timeline.tweet.str.contains('Diagnosed|diagnosed') &\n",
    "                               timeline.tweet.str.contains('Depression|depression') &\n",
    "                               timeline.tweet.str.contains('Today|today')].index\n",
    "    if len(diagnosed_dates) == 1:\n",
    "        diagnosed_day_dict[timeline.uid[0]] = diagnosed_dates[0]\n",
    "\n",
    "    elif len(diagnosed_dates) == 0:\n",
    "        print(\"\\n{}:\\t{}\".format(\"Not Found\", timeline.uid[0]))\n",
    "    else:\n",
    "        print(\"\\n{}:\\t{}\".format(\"Multiple Result\", timeline.uid[0]))\n",
    "        print(set([each_date.date() for each_date in diagnosed_dates]))\n",
    "        # Take the first one\n",
    "        diagnosed_day_dict[timeline.uid[0]] = diagnosed_dates[0]"
   ]
  },
  {
   "cell_type": "markdown",
   "metadata": {},
   "source": [
    "## Dump diagnosed time file"
   ]
  },
  {
   "cell_type": "code",
   "execution_count": 65,
   "metadata": {},
   "outputs": [
    {
     "name": "stdout",
     "output_type": "stream",
     "text": [
      "Dump Finished\n"
     ]
    }
   ],
   "source": [
    "if len(diagnosed_day_dict) == len(depression_timelines):\n",
    "    # open a file, where you ant to store the data\n",
    "    with open('datasets/depression_diagnosed_time', 'wb') as f:\n",
    "        pickle.dump(diagnosed_day_dict, f)\n",
    "    print('Dump Finished')"
   ]
  },
  {
   "cell_type": "code",
   "execution_count": 71,
   "metadata": {},
   "outputs": [
    {
     "name": "stdout",
     "output_type": "stream",
     "text": [
      "Loaded\n"
     ]
    }
   ],
   "source": [
    "# open a file, where you stored the pickled data\n",
    "with open('datasets/depression_diagnosed_time', 'rb') as f:\n",
    "    diagnosed_day_dict = pickle.load(f)\n",
    "    print('Loaded')"
   ]
  },
  {
   "cell_type": "code",
   "execution_count": null,
   "metadata": {},
   "outputs": [],
   "source": []
  }
 ],
 "metadata": {
  "kernelspec": {
   "display_name": "Python 3",
   "language": "python",
   "name": "python3"
  },
  "language_info": {
   "codemirror_mode": {
    "name": "ipython",
    "version": 3
   },
   "file_extension": ".py",
   "mimetype": "text/x-python",
   "name": "python",
   "nbconvert_exporter": "python",
   "pygments_lexer": "ipython3",
   "version": "3.6.4"
  }
 },
 "nbformat": 4,
 "nbformat_minor": 1
}
