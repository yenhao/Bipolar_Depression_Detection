{
 "cells": [
  {
   "cell_type": "code",
   "execution_count": 32,
   "metadata": {},
   "outputs": [],
   "source": [
    "import pandas as pd\n",
    "import numpy as np\n",
    "import pickle\n",
    "import os"
   ]
  },
  {
   "cell_type": "markdown",
   "metadata": {},
   "source": [
    "# File syntax standardize"
   ]
  },
  {
   "cell_type": "code",
   "execution_count": 45,
   "metadata": {
    "scrolled": true
   },
   "outputs": [],
   "source": [
    "def convert_to_pandas_pickle(file, dir_path='./', out_dir_path = './pickle/'):\n",
    "    # Read and organlize files\n",
    "    with open(dir_path+file) as f:\n",
    "        # Define table structure\n",
    "        content_dict = {'uid':[],\n",
    "                        'screen_name':[],\n",
    "                        'tweetime':[],\n",
    "                        'tweet':[]}\n",
    "        \n",
    "        for line in f.readlines():\n",
    "            uid, screen_name, tweetime, tweet = line.split('\\t')\n",
    "            content_dict['uid'].append(uid)\n",
    "            content_dict['screen_name'].append(screen_name)\n",
    "            content_dict['tweetime'].append(tweetime)\n",
    "            content_dict['tweet'].append(tweet.strip()) # Strip() to remove '\\n'\n",
    "\n",
    "    df = pd.DataFrame(content_dict, columns = ['uid', 'screen_name', 'tweetime', 'tweet'])\n",
    "    # df['datetime_int'] = pd.to_datetime(df['tweetime']).astype(np.int64)\n",
    "    # df = df.set_index('datetime_int')\n",
    "\n",
    "    # Convert to UTC-0 timezone\n",
    "    df['tweetime'] = pd.to_datetime(df['tweetime']) - pd.Timedelta('8 hours')\n",
    "    df = df.set_index('tweetime')\n",
    "    \n",
    "    # Save file\n",
    "    df.to_pickle(out_dir_path+file)\n",
    "    \n",
    "    return True"
   ]
  },
  {
   "cell_type": "code",
   "execution_count": 47,
   "metadata": {},
   "outputs": [],
   "source": [
    "dir_path = 'datasets/depression_users_tweets(diagnosed_today)/'\n",
    "out_dir_path = 'datasets/depression_raw_pickle/'\n",
    "files = os.listdir(dir_path)\n",
    "\n",
    "# Convert all files to pickle\n",
    "for file in files:\n",
    "    convert_to_pandas_pickle(file, dir_path, out_dir_path)\n"
   ]
  },
  {
   "cell_type": "markdown",
   "metadata": {},
   "source": [
    "# Get timeline before diagnosis"
   ]
  },
  {
   "cell_type": "code",
   "execution_count": 48,
   "metadata": {},
   "outputs": [],
   "source": [
    "import re"
   ]
  },
  {
   "cell_type": "code",
   "execution_count": 49,
   "metadata": {},
   "outputs": [],
   "source": [
    "def replace_Token(tweet):\n",
    "    tweet = re.sub('(https?:\\/\\/)|(pic)\\S+','URLTOK',tweet.lower().strip()) # url\n",
    "    tweet = re.sub('@(?:[a-zA-Z0-9_]+)', '<M>', tweet) # mention\n",
    "#     tweet = re.sub('#(?:[a-zA-Z0-9_]+)', '<H>', tweet) # hashtag\n",
    "    return tweet"
   ]
  },
  {
   "cell_type": "code",
   "execution_count": 56,
   "metadata": {},
   "outputs": [],
   "source": [
    "out_dir_path = 'datasets/depression_raw_pickle/'\n",
    "files = os.listdir(out_dir_path)\n",
    "\n",
    "# Read all timelines from pickles\n",
    "depression_timelines = [pd.read_pickle(out_dir_path+file) for file in files]"
   ]
  },
  {
   "cell_type": "code",
   "execution_count": 57,
   "metadata": {},
   "outputs": [
    {
     "data": {
      "text/plain": [
       "tweetime\n",
       "2014-09-19 11:07:53         Hugging trees hbu pic.twitter.com/PIuyEYmFmM\n",
       "2014-09-10 13:18:22             Pretty clouds pic.twitter.com/0qVIOT5OEJ\n",
       "2014-09-07 13:08:33    \" @illhueminati : share a picture you took rec...\n",
       "2014-09-06 16:49:38                           pic.twitter.com/tiyAdEwG1T\n",
       "2014-09-05 15:09:13    Today was one of the best days of my life. pic...\n",
       "Name: tweet, dtype: object"
      ]
     },
     "execution_count": 57,
     "metadata": {},
     "output_type": "execute_result"
    }
   ],
   "source": [
    "for timeline in depression_timelines:\n",
    "    timeline['repl_tweet'] = timeline.tweet.map(replace_Token)\n",
    "\n",
    "depression_timelines[0].tweet.head(5)"
   ]
  },
  {
   "cell_type": "code",
   "execution_count": 53,
   "metadata": {},
   "outputs": [
    {
     "data": {
      "text/html": [
       "<div>\n",
       "<style scoped>\n",
       "    .dataframe tbody tr th:only-of-type {\n",
       "        vertical-align: middle;\n",
       "    }\n",
       "\n",
       "    .dataframe tbody tr th {\n",
       "        vertical-align: top;\n",
       "    }\n",
       "\n",
       "    .dataframe thead th {\n",
       "        text-align: right;\n",
       "    }\n",
       "</style>\n",
       "<table border=\"1\" class=\"dataframe\">\n",
       "  <thead>\n",
       "    <tr style=\"text-align: right;\">\n",
       "      <th></th>\n",
       "      <th>uid</th>\n",
       "      <th>screen_name</th>\n",
       "      <th>tweet</th>\n",
       "      <th>repl_tweet</th>\n",
       "    </tr>\n",
       "    <tr>\n",
       "      <th>tweetime</th>\n",
       "      <th></th>\n",
       "      <th></th>\n",
       "      <th></th>\n",
       "      <th></th>\n",
       "    </tr>\n",
       "  </thead>\n",
       "  <tbody>\n",
       "    <tr>\n",
       "      <th>2014-09-19 11:07:53</th>\n",
       "      <td>2759738561</td>\n",
       "      <td>Autumn_Rxin</td>\n",
       "      <td>Hugging trees hbu pic.twitter.com/PIuyEYmFmM</td>\n",
       "      <td>hugging trees hbu URLTOK</td>\n",
       "    </tr>\n",
       "    <tr>\n",
       "      <th>2014-09-10 13:18:22</th>\n",
       "      <td>2759738561</td>\n",
       "      <td>Autumn_Rxin</td>\n",
       "      <td>Pretty clouds pic.twitter.com/0qVIOT5OEJ</td>\n",
       "      <td>pretty clouds URLTOK</td>\n",
       "    </tr>\n",
       "    <tr>\n",
       "      <th>2014-09-07 13:08:33</th>\n",
       "      <td>2759738561</td>\n",
       "      <td>Autumn_Rxin</td>\n",
       "      <td>\" @illhueminati : share a picture you took rec...</td>\n",
       "      <td>\" &lt;M&gt; : share a URLTOK you took recently” URLTOK</td>\n",
       "    </tr>\n",
       "    <tr>\n",
       "      <th>2014-09-06 16:49:38</th>\n",
       "      <td>2759738561</td>\n",
       "      <td>Autumn_Rxin</td>\n",
       "      <td>pic.twitter.com/tiyAdEwG1T</td>\n",
       "      <td>URLTOK</td>\n",
       "    </tr>\n",
       "    <tr>\n",
       "      <th>2014-09-05 15:09:13</th>\n",
       "      <td>2759738561</td>\n",
       "      <td>Autumn_Rxin</td>\n",
       "      <td>Today was one of the best days of my life. pic...</td>\n",
       "      <td>today was one of the best days of my life. URLTOK</td>\n",
       "    </tr>\n",
       "  </tbody>\n",
       "</table>\n",
       "</div>"
      ],
      "text/plain": [
       "                            uid  screen_name  \\\n",
       "tweetime                                       \n",
       "2014-09-19 11:07:53  2759738561  Autumn_Rxin   \n",
       "2014-09-10 13:18:22  2759738561  Autumn_Rxin   \n",
       "2014-09-07 13:08:33  2759738561  Autumn_Rxin   \n",
       "2014-09-06 16:49:38  2759738561  Autumn_Rxin   \n",
       "2014-09-05 15:09:13  2759738561  Autumn_Rxin   \n",
       "\n",
       "                                                                 tweet  \\\n",
       "tweetime                                                                 \n",
       "2014-09-19 11:07:53       Hugging trees hbu pic.twitter.com/PIuyEYmFmM   \n",
       "2014-09-10 13:18:22           Pretty clouds pic.twitter.com/0qVIOT5OEJ   \n",
       "2014-09-07 13:08:33  \" @illhueminati : share a picture you took rec...   \n",
       "2014-09-06 16:49:38                         pic.twitter.com/tiyAdEwG1T   \n",
       "2014-09-05 15:09:13  Today was one of the best days of my life. pic...   \n",
       "\n",
       "                                                            repl_tweet  \n",
       "tweetime                                                                \n",
       "2014-09-19 11:07:53                           hugging trees hbu URLTOK  \n",
       "2014-09-10 13:18:22                               pretty clouds URLTOK  \n",
       "2014-09-07 13:08:33   \" <M> : share a URLTOK you took recently” URLTOK  \n",
       "2014-09-06 16:49:38                                             URLTOK  \n",
       "2014-09-05 15:09:13  today was one of the best days of my life. URLTOK  "
      ]
     },
     "execution_count": 53,
     "metadata": {},
     "output_type": "execute_result"
    }
   ],
   "source": [
    "depression_timelines[0].head(5)"
   ]
  },
  {
   "cell_type": "markdown",
   "metadata": {},
   "source": [
    "## Get diagnosed day"
   ]
  },
  {
   "cell_type": "code",
   "execution_count": 58,
   "metadata": {},
   "outputs": [
    {
     "name": "stdout",
     "output_type": "stream",
     "text": [
      "\n",
      "Multiple Result:\t715408711\n",
      "{datetime.date(2012, 7, 25), datetime.date(2012, 7, 26)}\n",
      "\n",
      "Multiple Result:\t196699727\n",
      "{datetime.date(2012, 1, 13)}\n",
      "\n",
      "Multiple Result:\t1580882760\n",
      "{datetime.date(2013, 7, 9)}\n",
      "\n",
      "Multiple Result:\t2245701436\n",
      "{datetime.date(2014, 3, 12)}\n",
      "\n",
      "Multiple Result:\t59537566\n",
      "{datetime.date(2013, 4, 12)}\n",
      "\n",
      "Multiple Result:\t3474584555\n",
      "{datetime.date(2015, 12, 10)}\n",
      "\n",
      "Multiple Result:\t173935927\n",
      "{datetime.date(2012, 2, 10)}\n"
     ]
    }
   ],
   "source": [
    "diagnosed_day_dict = {}\n",
    "\n",
    "# Go through every person to get diagnosed date\n",
    "for timeline in depression_timelines:\n",
    "\n",
    "    diagnosed_dates = timeline[timeline.tweet.str.contains('Diagnosed|diagnosed') &\n",
    "                               timeline.tweet.str.contains('Depression|depression') &\n",
    "                               timeline.tweet.str.contains('Today|today')].index\n",
    "    if len(diagnosed_dates) == 1:\n",
    "        diagnosed_day_dict[timeline.uid[0]] = diagnosed_dates[0]\n",
    "\n",
    "    elif len(diagnosed_dates) == 0:\n",
    "        print(\"\\n{}:\\t{}\".format(\"Not Found\", timeline.uid[0]))\n",
    "    else:\n",
    "        print(\"\\n{}:\\t{}\".format(\"Multiple Result\", timeline.uid[0]))\n",
    "        print(set([each_date.date() for each_date in diagnosed_dates]))\n",
    "        diagnosed_day_dict[timeline.uid[0]] = diagnosed_dates[0]"
   ]
  },
  {
   "cell_type": "markdown",
   "metadata": {},
   "source": [
    "## Dump file"
   ]
  },
  {
   "cell_type": "code",
   "execution_count": 65,
   "metadata": {},
   "outputs": [
    {
     "name": "stdout",
     "output_type": "stream",
     "text": [
      "Dump Finished\n"
     ]
    }
   ],
   "source": [
    "if len(diagnosed_day_dict) == len(depression_timelines):\n",
    "    # open a file, where you ant to store the data\n",
    "    file = open('datasets/depression_diagnosed_time', 'wb')\n",
    "\n",
    "    # dump information to that file\n",
    "    pickle.dump(diagnosed_day_dict, file)\n",
    "\n",
    "    # close the file\n",
    "    file.close()\n",
    "    print('Dump Finished')"
   ]
  },
  {
   "cell_type": "code",
   "execution_count": null,
   "metadata": {},
   "outputs": [],
   "source": []
  }
 ],
 "metadata": {
  "kernelspec": {
   "display_name": "Python 3",
   "language": "python",
   "name": "python3"
  },
  "language_info": {
   "codemirror_mode": {
    "name": "ipython",
    "version": 3
   },
   "file_extension": ".py",
   "mimetype": "text/x-python",
   "name": "python",
   "nbconvert_exporter": "python",
   "pygments_lexer": "ipython3",
   "version": "3.6.4"
  }
 },
 "nbformat": 4,
 "nbformat_minor": 2
}
